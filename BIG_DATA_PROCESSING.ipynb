{
 "cells": [
  {
   "cell_type": "code",
   "execution_count": 93,
   "id": "06cbd375-e4ae-4ef6-9f1c-5445d1c1b76b",
   "metadata": {},
   "outputs": [
    {
     "name": "stdout",
     "output_type": "stream",
     "text": [
      "Cynthia Foster\n"
     ]
    }
   ],
   "source": [
    "import os\n",
    "import csv\n",
    "import time\n",
    "import psycopg2\n",
    "import sqlalchemy\n",
    "import pandas as pd\n",
    "from faker import Faker\n",
    "fake = Faker()\n",
    "print(fake.name())"
   ]
  },
  {
   "cell_type": "code",
   "execution_count": 95,
   "id": "1b1b0fa3-f794-4987-a50e-a3f8ded4e360",
   "metadata": {},
   "outputs": [],
   "source": [
    "os.environ['DB_NAME'] = 'api_db'\n",
    "os.environ['DB_USER'] = 'user_chandu'\n",
    "os.environ['DB_PASSWORD'] = '0009'\n",
    "os.environ['DB_HOST'] = 'localhost'\n",
    "os.environ['DB_PORT'] = '5432'"
   ]
  },
  {
   "cell_type": "code",
   "execution_count": 97,
   "id": "be06017e-4b83-499b-81c0-92e1ac70f119",
   "metadata": {},
   "outputs": [],
   "source": [
    "def generate_csv(filename='sales_data.csv', rows=1000000):\n",
    "    fake = Faker()\n",
    "    with open(filename, mode='w', newline='') as file:\n",
    "        writer = csv.writer(file)\n",
    "        writer.writerow(['customer_name', 'product', 'quantity', 'price', 'order_date'])\n",
    "        \n",
    "        for _ in range(rows):\n",
    "            writer.writerow([\n",
    "                fake.name(),\n",
    "                fake.word(),\n",
    "                fake.random_int(min=1, max=100),\n",
    "                round(fake.random_number(digits=5) / 100, 2),\n",
    "                fake.date_between(start_date='-2y', end_date='today')\n",
    "            ])\n",
    "\n",
    "generate_csv('sales_data.csv', 1000000)\n"
   ]
  },
  {
   "cell_type": "code",
   "execution_count": 98,
   "id": "ffce2ca5-7aa0-432f-8761-bedc55c72240",
   "metadata": {},
   "outputs": [],
   "source": [
    "def get_engine():\n",
    "    db_url = (\n",
    "        f\"postgresql+psycopg2://{os.environ['DB_USER']}:{os.environ['DB_PASSWORD']}\"\n",
    "        f\"@{os.environ['DB_HOST']}:{os.environ['DB_PORT']}/{os.environ['DB_NAME']}\"\n",
    "    )\n",
    "    return sqlalchemy.create_engine(db_url)\n",
    "\n",
    "engine = get_engine()\n"
   ]
  },
  {
   "cell_type": "code",
   "execution_count": 99,
   "id": "93ce16a3-f0b8-456f-bba4-3ee6641a924e",
   "metadata": {},
   "outputs": [
    {
     "data": {
      "text/html": [
       "<div>\n",
       "<style scoped>\n",
       "    .dataframe tbody tr th:only-of-type {\n",
       "        vertical-align: middle;\n",
       "    }\n",
       "\n",
       "    .dataframe tbody tr th {\n",
       "        vertical-align: top;\n",
       "    }\n",
       "\n",
       "    .dataframe thead th {\n",
       "        text-align: right;\n",
       "    }\n",
       "</style>\n",
       "<table border=\"1\" class=\"dataframe\">\n",
       "  <thead>\n",
       "    <tr style=\"text-align: right;\">\n",
       "      <th></th>\n",
       "      <th>customer_name</th>\n",
       "      <th>product</th>\n",
       "      <th>quantity</th>\n",
       "      <th>price</th>\n",
       "      <th>order_date</th>\n",
       "    </tr>\n",
       "  </thead>\n",
       "  <tbody>\n",
       "    <tr>\n",
       "      <th>0</th>\n",
       "      <td>Eric Stevens</td>\n",
       "      <td>begin</td>\n",
       "      <td>79</td>\n",
       "      <td>7.97</td>\n",
       "      <td>2024-10-28</td>\n",
       "    </tr>\n",
       "    <tr>\n",
       "      <th>1</th>\n",
       "      <td>Jennifer Maxwell</td>\n",
       "      <td>party</td>\n",
       "      <td>49</td>\n",
       "      <td>437.75</td>\n",
       "      <td>2024-04-02</td>\n",
       "    </tr>\n",
       "    <tr>\n",
       "      <th>2</th>\n",
       "      <td>Diana Schneider</td>\n",
       "      <td>treatment</td>\n",
       "      <td>56</td>\n",
       "      <td>891.99</td>\n",
       "      <td>2025-03-27</td>\n",
       "    </tr>\n",
       "    <tr>\n",
       "      <th>3</th>\n",
       "      <td>Dawn Brown</td>\n",
       "      <td>movie</td>\n",
       "      <td>10</td>\n",
       "      <td>236.77</td>\n",
       "      <td>2025-05-01</td>\n",
       "    </tr>\n",
       "    <tr>\n",
       "      <th>4</th>\n",
       "      <td>Dr. Jennifer Rodriguez PhD</td>\n",
       "      <td>skill</td>\n",
       "      <td>6</td>\n",
       "      <td>806.23</td>\n",
       "      <td>2025-04-23</td>\n",
       "    </tr>\n",
       "  </tbody>\n",
       "</table>\n",
       "</div>"
      ],
      "text/plain": [
       "                customer_name    product  quantity   price  order_date\n",
       "0                Eric Stevens      begin        79    7.97  2024-10-28\n",
       "1            Jennifer Maxwell      party        49  437.75  2024-04-02\n",
       "2             Diana Schneider  treatment        56  891.99  2025-03-27\n",
       "3                  Dawn Brown      movie        10  236.77  2025-05-01\n",
       "4  Dr. Jennifer Rodriguez PhD      skill         6  806.23  2025-04-23"
      ]
     },
     "execution_count": 99,
     "metadata": {},
     "output_type": "execute_result"
    }
   ],
   "source": [
    "df = pd.read_csv('sales_data.csv')\n",
    "df.head()"
   ]
  },
  {
   "cell_type": "code",
   "execution_count": null,
   "id": "1bc0f366-1b36-4619-b167-9cfdf53adee5",
   "metadata": {},
   "outputs": [],
   "source": []
  },
  {
   "cell_type": "code",
   "execution_count": 101,
   "id": "867fcb34-592f-4be1-b847-8d65317e9e88",
   "metadata": {},
   "outputs": [],
   "source": [
    "def batch_insert(df):\n",
    "    start =time.time()\n",
    "    with engine.begin() as conn:\n",
    "        conn.exectue(\n",
    "            \"\"\"\n",
    "            INSERT INTO sales_data (customer_name, product, quantity, price, order_date)\n",
    "            VALUES(%s, %s, %s, %s, %s)\n",
    "            \"\"\",\n",
    "            [\n",
    "                (\n",
    "                    row[\"customer_name\"],\n",
    "                    row[\"product\"],\n",
    "                    int(row[\"quantity\"]),\n",
    "                    float(row[\" price\"]),\n",
    "                    row[\"order_date\"]\n",
    "                )\n",
    "                for _, row in df.iterrows()\n",
    "            ]\n",
    "        )\n",
    "    print(\"Batch Insert Time:\", time.time() -start)"
   ]
  },
  {
   "cell_type": "code",
   "execution_count": 102,
   "id": "ef862c90-277b-4900-ada2-b095effc5519",
   "metadata": {},
   "outputs": [
    {
     "name": "stdout",
     "output_type": "stream",
     "text": [
      "Batch Insert Time: 19.34 seconds\n"
     ]
    }
   ],
   "source": [
    "def batch_insert(df, batch_size=10000):\n",
    "    engine = get_engine()\n",
    "    start = time.time()\n",
    "    df.to_sql('sales_data', engine, index=False , if_exists='append', method='multi', chunksize=batch_size)\n",
    "    print(\"Batch Insert Time:\", round(time.time() -start,2),\"seconds\")\n",
    "\n",
    "batch_insert(df.head(500000))\n"
   ]
  },
  {
   "cell_type": "code",
   "execution_count": 103,
   "id": "e80d2395-216c-47e2-8cb9-c06189f4fa21",
   "metadata": {},
   "outputs": [
    {
     "name": "stdout",
     "output_type": "stream",
     "text": [
      "Copy Insert Time: 0.7276678085327148\n"
     ]
    }
   ],
   "source": [
    "def copy_insert(filename='sales_data.csv'):\n",
    "    conn = psycopg2.connect(\n",
    "        dbname=os.environ['DB_NAME'],\n",
    "        user=os.environ['DB_USER'],\n",
    "        password=os.environ['DB_PASSWORD'],\n",
    "        host=os.environ['DB_HOST'],\n",
    "        port=os.environ['DB_PORT']\n",
    "    )\n",
    "    cur =conn.cursor()\n",
    "    start = time.time()\n",
    "    \n",
    "    with open(filename, 'r') as f:\n",
    "        next(f)\n",
    "        cur.copy_expert(\"\"\"\n",
    "            COPY sales_data(customer_name, product, quantity, price, order_date)\n",
    "            FROM STDIN WITH CSV\n",
    "        \"\"\", f)\n",
    "    conn.commit()\n",
    "    cur.close()\n",
    "    conn.close()\n",
    "    print(\"Copy Insert Time:\" ,time.time() - start)\n",
    "\n",
    "copy_insert('sales_data.csv')"
   ]
  },
  {
   "cell_type": "code",
   "execution_count": 116,
   "id": "e10411c1-ce0a-4f42-92c3-f4cc65eb549e",
   "metadata": {},
   "outputs": [
    {
     "name": "stdout",
     "output_type": "stream",
     "text": [
      "('Wayne Evans', 'vote', 11, 836.57, '2024-05-04')\n",
      "('Alan Medina', 'reality', 91, 173.22, '2024-12-21')\n",
      "('Kelly Torres', 'cell', 68, 301.16, '2024-02-10')\n",
      "('James Perry', 'thus', 5, 208.89, '2024-10-29')\n",
      "('Michael Brewer', 'eight', 37, 108.4, '2024-12-25')\n"
     ]
    }
   ],
   "source": [
    "from sqlalchemy import text\n",
    "\n",
    "with engine.connect() as conn:\n",
    "    result = conn.execute(text(\"SELECT * FROM sales_data LIMIT 5\"))\n",
    "    for row in result:\n",
    "        print(row)"
   ]
  },
  {
   "cell_type": "code",
   "execution_count": null,
   "id": "3e5ac662-b964-42b4-98b3-95fd518b87fe",
   "metadata": {},
   "outputs": [],
   "source": []
  },
  {
   "cell_type": "code",
   "execution_count": null,
   "id": "f3c5c673-4b30-467b-af35-458afda610f1",
   "metadata": {},
   "outputs": [],
   "source": []
  }
 ],
 "metadata": {
  "kernelspec": {
   "display_name": "Python 3.13 (Postgres ETL)",
   "language": "python",
   "name": "postgres-etl"
  },
  "language_info": {
   "codemirror_mode": {
    "name": "ipython",
    "version": 3
   },
   "file_extension": ".py",
   "mimetype": "text/x-python",
   "name": "python",
   "nbconvert_exporter": "python",
   "pygments_lexer": "ipython3",
   "version": "3.13.1"
  }
 },
 "nbformat": 4,
 "nbformat_minor": 5
}
